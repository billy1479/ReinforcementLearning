{
 "cells": [
  {
   "cell_type": "markdown",
   "metadata": {},
   "source": [
    "# Coursework Template"
   ]
  },
  {
   "cell_type": "markdown",
   "metadata": {
    "id": "QTNU1mwGB1ZD"
   },
   "source": [
    "**Dependencies and imports**\n",
    "\n",
    "This can take a minute..."
   ]
  },
  {
   "cell_type": "code",
   "execution_count": 26,
   "metadata": {},
   "outputs": [],
   "source": [
    "# !pip install swig\n",
    "# !pip install --upgrade rldurham"
   ]
  },
  {
   "cell_type": "code",
   "execution_count": 27,
   "metadata": {},
   "outputs": [],
   "source": [
    "import torch\n",
    "import rldurham as rld\n",
    "\n",
    "import torch\n",
    "import torch.nn as nn\n",
    "import torch.nn.functional as F\n",
    "import numpy as np\n",
    "from collections import deque"
   ]
  },
  {
   "cell_type": "markdown",
   "metadata": {
    "id": "UJHtclV_30Re"
   },
   "source": [
    "**Reinforcement learning agent**\n",
    "\n",
    "Replace this with your own agent, I recommend starting with TD3 (lecture 8)."
   ]
  },
  {
   "cell_type": "code",
   "execution_count": 28,
   "metadata": {
    "id": "4jXNHP8_U-rn"
   },
   "outputs": [],
   "source": [
    "# class Agent(torch.nn.Module):\n",
    "#     def __init__(self):\n",
    "#         super(Agent, self).__init__()\n",
    "\n",
    "#     def sample_action(self, s):\n",
    "#         return torch.rand(act_dim) * 2 - 1 # unifrom random in [-1, 1]\n",
    "\n",
    "#     def put_data(self, action, observation, reward):\n",
    "#         pass\n",
    "\n",
    "#     def train(self):\n",
    "#         pass\n",
    "\n",
    "class Agent(nn.Module):\n",
    "    def __init__(self, state_dim, action_dim, hidden_dim=128):\n",
    "        super(Agent, self).__init__()\n",
    "        \n",
    "        # Policy network - maps states to action distributions\n",
    "        self.policy = nn.Sequential(\n",
    "            nn.Linear(state_dim, hidden_dim),\n",
    "            nn.ReLU(),\n",
    "            nn.Linear(hidden_dim, hidden_dim),\n",
    "            nn.ReLU(),\n",
    "            nn.Linear(hidden_dim, action_dim),\n",
    "            nn.Tanh()  # Bound actions to [-1, 1]\n",
    "        )\n",
    "        \n",
    "        # Value network - estimates state values for advantage calculation\n",
    "        self.value = nn.Sequential(\n",
    "            nn.Linear(state_dim, hidden_dim),\n",
    "            nn.ReLU(),\n",
    "            nn.Linear(hidden_dim, hidden_dim),\n",
    "            nn.ReLU(),\n",
    "            nn.Linear(hidden_dim, 1)\n",
    "        )\n",
    "        \n",
    "        # Initialize memory for storing trajectory\n",
    "        self.trajectory = []\n",
    "        \n",
    "        # Hyperparameters\n",
    "        self.gamma = 0.99  # Discount factor\n",
    "        self.learning_rate = 3e-4\n",
    "        self.optimizer = torch.optim.Adam(self.parameters(), lr=self.learning_rate)\n",
    "        \n",
    "        # Track statistics\n",
    "        self.running_rewards = deque(maxlen=100)\n",
    "    \n",
    "    def sample_action(self, state):\n",
    "        \"\"\"\n",
    "        Sample an action from a Gaussian distribution centered at the policy output.\n",
    "        The policy network outputs the mean action, and we add noise for exploration.\n",
    "        \"\"\"\n",
    "        state = torch.FloatTensor(state)\n",
    "        with torch.no_grad():\n",
    "            mean_action = self.policy(state)\n",
    "            # Add exploration noise\n",
    "            noise = torch.randn_like(mean_action) * 0.1\n",
    "            action = torch.clamp(mean_action + noise, -1, 1)\n",
    "        return action.numpy()\n",
    "    \n",
    "    def put_data(self, state, action, reward, next_state, done):\n",
    "        \"\"\"Store transition in trajectory buffer\"\"\"\n",
    "        self.trajectory.append((state, action, reward, next_state, done))\n",
    "    \n",
    "    def train(self):\n",
    "        \"\"\"Update policy and value networks using collected trajectory\"\"\"\n",
    "        if len(self.trajectory) < 1:\n",
    "            return\n",
    "        \n",
    "        # Unpack trajectory\n",
    "        states, actions, rewards, next_states, dones = zip(*self.trajectory)\n",
    "        \n",
    "        # Convert to tensors\n",
    "        states = torch.FloatTensor(states)\n",
    "        actions = torch.FloatTensor(actions)\n",
    "        rewards = torch.FloatTensor(rewards)\n",
    "        next_states = torch.FloatTensor(next_states)\n",
    "        dones = torch.FloatTensor(dones)\n",
    "        \n",
    "        # Compute returns and advantages\n",
    "        with torch.no_grad():\n",
    "            values = self.value(states).squeeze()\n",
    "            next_values = self.value(next_states).squeeze()\n",
    "            \n",
    "            # Compute returns (discounted sum of rewards)\n",
    "            returns = []\n",
    "            running_return = next_values[-1] * (1 - dones[-1])\n",
    "            for r, d in zip(reversed(rewards), reversed(dones)):\n",
    "                running_return = r + self.gamma * running_return * (1 - d)\n",
    "                returns.insert(0, running_return)\n",
    "            returns = torch.stack(returns)\n",
    "            \n",
    "            # Compute advantages (returns - values)\n",
    "            advantages = returns - values\n",
    "            \n",
    "        # Normalize advantages\n",
    "        advantages = (advantages - advantages.mean()) / (advantages.std() + 1e-8)\n",
    "        \n",
    "        # Policy loss\n",
    "        mean_actions = self.policy(states)\n",
    "        action_log_probs = -0.5 * ((actions - mean_actions) ** 2).sum(dim=1)\n",
    "        policy_loss = -(action_log_probs * advantages).mean()\n",
    "        \n",
    "        # Value loss\n",
    "        value_loss = F.mse_loss(self.value(states).squeeze(), returns)\n",
    "        \n",
    "        # Total loss\n",
    "        loss = policy_loss + 0.5 * value_loss\n",
    "        \n",
    "        # Update networks\n",
    "        self.optimizer.zero_grad()\n",
    "        loss.backward()\n",
    "        torch.nn.utils.clip_grad_norm_(self.parameters(), max_norm=0.5)\n",
    "        self.optimizer.step()\n",
    "        \n",
    "        # Clear trajectory buffer\n",
    "        self.trajectory = []\n",
    "        \n",
    "        return loss.item()\n",
    "\n",
    "    def update_stats(self, episode_reward):\n",
    "        \"\"\"Update running statistics\"\"\"\n",
    "        self.running_rewards.append(episode_reward)\n",
    "        \n",
    "    def get_average_reward(self):\n",
    "        \"\"\"Get average reward over last 100 episodes\"\"\"\n",
    "        return np.mean(self.running_rewards) if self.running_rewards else 0"
   ]
  },
  {
   "cell_type": "markdown",
   "metadata": {
    "id": "QEv4ZjXmyrHo"
   },
   "source": [
    "**Prepare the environment and wrap it to capture statistics, logs, and videos**"
   ]
  },
  {
   "cell_type": "code",
   "execution_count": 29,
   "metadata": {
    "id": "1Xrcek4hxDXl"
   },
   "outputs": [
    {
     "name": "stdout",
     "output_type": "stream",
     "text": [
      "The device is: cpu (as recommended)\n",
      "actions are continuous with 4 dimensions/#actions\n",
      "observations are continuous with 24 dimensions/#observations\n",
      "maximum timesteps is: None\n"
     ]
    },
    {
     "name": "stderr",
     "output_type": "stream",
     "text": [
      "/home/billy/.local/lib/python3.10/site-packages/gymnasium/wrappers/rendering.py:283: UserWarning: \u001b[33mWARN: Overwriting existing videos at /home/billy/Github/ReinforcementLearning/videos folder (try specifying a different `video_folder` for the `RecordVideo` wrapper if this is not desired)\u001b[0m\n",
      "  logger.warn(\n"
     ]
    },
    {
     "data": {
      "image/png": "[encoded data removed]",
      "text/plain": [
       "<Figure size 640x480 with 1 Axes>"
      ]
     },
     "metadata": {},
     "output_type": "display_data"
    }
   ],
   "source": [
    "env = rld.make(\"rldurham/Walker\", render_mode=\"rgb_array\")\n",
    "# env = rld.make(\"rldurham/Walker\", render_mode=\"rgb_array\", hardcore=True) # only attempt this when your agent has solved the non-hardcore version\n",
    "\n",
    "# get statistics, logs, and videos\n",
    "env = rld.Recorder(\n",
    "    env,\n",
    "    smoothing=10,                       # track rolling averages (useful for plotting)\n",
    "    video=True,                         # enable recording videos\n",
    "    video_folder=\"videos\",              # folder for videos\n",
    "    video_prefix=\"xxxx00-agent-video\",  # prefix for videos (replace xxxx00 with your username)\n",
    "    logs=True,                          # keep logs\n",
    ")\n",
    "\n",
    "# training on CPU recommended\n",
    "rld.check_device()\n",
    "\n",
    "# environment info\n",
    "discrete_act, discrete_obs, act_dim, obs_dim = rld.env_info(env, print_out=True)\n",
    "\n",
    "# render start image\n",
    "env.reset(seed=42)\n",
    "rld.render(env)"
   ]
  },
  {
   "cell_type": "code",
   "execution_count": 30,
   "metadata": {
    "colab": {
     "base_uri": "https://localhost:8080/",
     "height": 449
    },
    "id": "rDl6ViIDlVOk",
    "outputId": "731e4ce7-c98d-4bde-8a2c-fbdf1410e24f"
   },
   "outputs": [
    {
     "data": {
      "image/png": "[encoded data removed]",
      "text/plain": [
       "<Figure size 640x480 with 1 Axes>"
      ]
     },
     "metadata": {},
     "output_type": "display_data"
    }
   ],
   "source": [
    "# in the submission please use seed_everything with seed 42 for verification\n",
    "seed, observation, info = rld.seed_everything(42, env)\n",
    "\n",
    "# initialise agent\n",
    "agent = Agent(env.observation_space.shape[0], env.action_space.shape[0])\n",
    "max_episodes = 100\n",
    "max_timesteps = 2000\n",
    "\n",
    "# track statistics for plotting\n",
    "tracker = rld.InfoTracker()\n",
    "\n",
    "# switch video recording off (only switch on every x episodes as this is slow)\n",
    "env.video = False\n",
    "\n",
    "# training procedure\n",
    "for episode in range(max_episodes):\n",
    "    \n",
    "    # recording statistics and video can be switched on and off (video recording is slow!)\n",
    "    env.info = episode % 10 == 0   # track every x episodes (usually tracking every episode is fine)\n",
    "    env.video = episode % 10 == 0  # record videos every x episodes (set BEFORE calling reset!)\n",
    "\n",
    "    # reset for new episode\n",
    "    observation, info = env.reset()\n",
    "    episode_reward = 0\n",
    "\n",
    "    # # run episode\n",
    "    # for t in range(max_timesteps):\n",
    "        \n",
    "    #     # select the agent action\n",
    "    #     action = agent.sample_action(observation)\n",
    "\n",
    "    #     # take action in the environment\n",
    "    #     observation, reward, terminated, truncated, info = env.step(action)\n",
    "\n",
    "    #     # remember\n",
    "    #     agent.put_data(observation, action, reward, observation, done)\n",
    "\n",
    "    #     # check whether done\n",
    "    #     done = terminated or truncated\n",
    "\n",
    "    #     # stop episode\n",
    "    #     if done:\n",
    "    #         break\n",
    "    \n",
    "    for t in range(max_timesteps):\n",
    "    \n",
    "        # select the agent action\n",
    "        action = agent.sample_action(observation)\n",
    "        \n",
    "        # take action in the environment\n",
    "        next_observation, reward, terminated, truncated, info = env.step(action)\n",
    "        \n",
    "        # accumulate episode reward\n",
    "        episode_reward += reward\n",
    "        \n",
    "        # check whether done\n",
    "        done = terminated or truncated\n",
    "        \n",
    "        # store transition in agent's memory\n",
    "        agent.put_data(observation, action, reward, next_observation, done)\n",
    "        \n",
    "        # update current observation\n",
    "        observation = next_observation\n",
    "        \n",
    "        # stop episode if done\n",
    "        if done:\n",
    "            break\n",
    "        \n",
    "    loss = agent.train()\n",
    "    \n",
    "    agent.update_stats(episode_reward)\n",
    "\n",
    "    # TRAIN THE AGENT HERE!\n",
    "            \n",
    "    # track and plot statistics\n",
    "    tracker.track(info)\n",
    "    if (episode + 1) % 10 == 0:\n",
    "        tracker.plot(r_mean_=True, r_std_=True, r_sum=dict(linestyle=':', marker='x'))\n",
    "\n",
    "# don't forget to close environment (e.g. triggers last video save)\n",
    "env.close()\n",
    "\n",
    "# write log file (for coursework)\n",
    "env.write_log(folder=\"logs\", file=\"xxxx00-agent-log.txt\")  # replace xxxx00 with your username"
   ]
  },
  {
   "cell_type": "markdown",
   "metadata": {},
   "source": [
    "A small demo with a predefined heuristic that is suboptimal and has no notion of balance (and is designed for the orignal BipedalWalker environment)..."
   ]
  },
  {
   "cell_type": "code",
   "execution_count": 31,
   "metadata": {},
   "outputs": [
    {
     "name": "stderr",
     "output_type": "stream",
     "text": [
      "Seed set to 42\n"
     ]
    }
   ],
   "source": [
    "from gymnasium.envs.box2d.bipedal_walker import BipedalWalkerHeuristics\n",
    "\n",
    "env = rld.make(\n",
    "    \"rldurham/Walker\",\n",
    "    # \"BipedalWalker-v3\",\n",
    "    render_mode=\"human\",\n",
    "    # render_mode=\"rgb_array\",\n",
    "    hardcore=False,\n",
    "    # hardcore=True,\n",
    ")\n",
    "_, obs, info = rld.seed_everything(42, env)\n",
    "\n",
    "heuristics = BipedalWalkerHeuristics()\n",
    "\n",
    "act = heuristics.step_heuristic(obs)\n",
    "for _ in range(500):\n",
    "    obs, rew, terminated, truncated, info = env.step(act)\n",
    "    act = heuristics.step_heuristic(obs)\n",
    "    if terminated or truncated:\n",
    "        break\n",
    "    if env.render_mode == \"rgb_array\":\n",
    "        rld.render(env, clear=True)\n",
    "env.close()"
   ]
  }
 ],
 "metadata": {
  "colab": {
   "provenance": []
  },
  "kernelspec": {
   "display_name": "Python 3",
   "language": "python",
   "name": "python3"
  },
  "language_info": {
   "codemirror_mode": {
    "name": "ipython",
    "version": 3
   },
   "file_extension": ".py",
   "mimetype": "text/x-python",
   "name": "python",
   "nbconvert_exporter": "python",
   "pygments_lexer": "ipython3",
   "version": "3.10.12"
  }
 },
 "nbformat": 4,
 "nbformat_minor": 4
}
