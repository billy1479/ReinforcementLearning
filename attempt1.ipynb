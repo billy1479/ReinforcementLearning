{
 "cells": [
  {
   "cell_type": "markdown",
   "metadata": {},
   "source": [
    "# Coursework Template"
   ]
  },
  {
   "cell_type": "markdown",
   "metadata": {
    "id": "QTNU1mwGB1ZD"
   },
   "source": [
    "**Dependencies and imports**\n",
    "\n",
    "This can take a minute..."
   ]
  },
  {
   "cell_type": "code",
   "execution_count": 1,
   "metadata": {},
   "outputs": [],
   "source": [
    "# !pip install swig\n",
    "# !pip install --upgrade rldurham"
   ]
  },
  {
   "cell_type": "code",
   "execution_count": 2,
   "metadata": {},
   "outputs": [],
   "source": [
    "import torch\n",
    "import rldurham as rld\n",
    "\n",
    "import torch\n",
    "import torch.nn as nn\n",
    "import torch.nn.functional as F\n",
    "import numpy as np\n",
    "from collections import deque"
   ]
  },
  {
   "cell_type": "markdown",
   "metadata": {
    "id": "UJHtclV_30Re"
   },
   "source": [
    "**Reinforcement learning agent**\n",
    "\n",
    "Replace this with your own agent, I recommend starting with TD3 (lecture 8)."
   ]
  },
  {
   "cell_type": "code",
   "execution_count": 3,
   "metadata": {
    "id": "4jXNHP8_U-rn"
   },
   "outputs": [],
   "source": [
    "class Agent(nn.Module):\n",
    "    def __init__(self, state_dim, action_dim, hidden_dim=128):\n",
    "        super(Agent, self).__init__()\n",
    "        \n",
    "        # Enhanced policy network with layer normalization for better training stability\n",
    "        self.policy = nn.Sequential(\n",
    "            nn.Linear(state_dim, hidden_dim),\n",
    "            nn.LayerNorm(hidden_dim),  # Add normalization to combat internal covariate shift\n",
    "            nn.ReLU(),\n",
    "            nn.Linear(hidden_dim, hidden_dim),\n",
    "            nn.LayerNorm(hidden_dim),\n",
    "            nn.ReLU(),\n",
    "            nn.Linear(hidden_dim, action_dim),\n",
    "            nn.Tanh()  # Bound actions to [-1, 1]\n",
    "        )\n",
    "        \n",
    "        # Enhanced value network with separate feature extraction\n",
    "        self.value_features = nn.Sequential(\n",
    "            nn.Linear(state_dim, hidden_dim),\n",
    "            nn.LayerNorm(hidden_dim),\n",
    "            nn.ReLU(),\n",
    "            nn.Linear(hidden_dim, hidden_dim),\n",
    "            nn.LayerNorm(hidden_dim),\n",
    "            nn.ReLU(),\n",
    "        )\n",
    "        \n",
    "        self.value_head = nn.Linear(hidden_dim, 1)\n",
    "        \n",
    "        # Initialize memory buffers\n",
    "        self.trajectory = []\n",
    "        self.recent_actions = deque(maxlen=5)  # Store recent actions for smoothing\n",
    "        \n",
    "        # Hyperparameters\n",
    "        self.gamma = 0.99  # Discount factor\n",
    "        self.learning_rate = 3e-4\n",
    "        self.gae_lambda = 0.95  # GAE parameter for advantage estimation\n",
    "        self.clip_ratio = 0.2  # PPO clip ratio\n",
    "        self.action_std = 0.1  # Initial action noise standard deviation\n",
    "        self.min_action_std = 0.05  # Minimum exploration noise\n",
    "        self.action_std_decay = 0.995  # Decay rate for exploration noise\n",
    "        \n",
    "        # Separate optimizers for policy and value networks\n",
    "        self.policy_optimizer = torch.optim.Adam(self.policy.parameters(), lr=self.learning_rate)\n",
    "        self.value_optimizer = torch.optim.Adam(\n",
    "            list(self.value_features.parameters()) + list(self.value_head.parameters()), \n",
    "            lr=self.learning_rate\n",
    "        )\n",
    "        \n",
    "        # Track statistics\n",
    "        self.running_rewards = deque(maxlen=100)\n",
    "        self.value_losses = deque(maxlen=100)\n",
    "        self.policy_losses = deque(maxlen=100)\n",
    "        \n",
    "    def get_value(self, states):\n",
    "        \"\"\"Compute state values using the value network\"\"\"\n",
    "        features = self.value_features(states)\n",
    "        return self.value_head(features)\n",
    "    \n",
    "    def sample_action(self, state):\n",
    "        \"\"\"\n",
    "        Sample an action using the policy network with adaptive noise and action smoothing.\n",
    "        Implements temporal action smoothing for more natural walking motions.\n",
    "        \"\"\"\n",
    "        state = torch.FloatTensor(state)\n",
    "        with torch.no_grad():\n",
    "            mean_action = self.policy(state)\n",
    "            \n",
    "            # Add exploration noise with adaptive standard deviation\n",
    "            noise = torch.randn_like(mean_action) * self.action_std\n",
    "            action = torch.clamp(mean_action + noise, -1, 1)\n",
    "            \n",
    "            # Apply temporal action smoothing if we have previous actions\n",
    "            if len(self.recent_actions) > 0:\n",
    "                smooth_factor = 0.6\n",
    "                prev_action = np.mean([a for a in self.recent_actions], axis=0)\n",
    "                action = torch.FloatTensor(smooth_factor * action.numpy() + \n",
    "                                         (1 - smooth_factor) * prev_action)\n",
    "            \n",
    "            # Store action for future smoothing\n",
    "            self.recent_actions.append(action.numpy())\n",
    "            \n",
    "        return action.numpy()\n",
    "    \n",
    "    def put_data(self, state, action, reward, next_state, done):\n",
    "        \"\"\"Store transition in trajectory buffer with additional processing\"\"\"\n",
    "        # Add time step to help with temporal credit assignment\n",
    "        time_step = len(self.trajectory)\n",
    "        self.trajectory.append((state, action, reward, next_state, done, time_step))\n",
    "    \n",
    "    def compute_gae(self, rewards, values, next_values, dones):\n",
    "        \"\"\"\n",
    "        Compute Generalized Advantage Estimation (GAE).\n",
    "        Provides better advantage estimates for more stable training.\n",
    "        \"\"\"\n",
    "        advantages = []\n",
    "        gae = 0\n",
    "        \n",
    "        for t in reversed(range(len(rewards))):\n",
    "            if t == len(rewards) - 1:\n",
    "                next_value = next_values[t]\n",
    "            else:\n",
    "                next_value = values[t + 1]\n",
    "                \n",
    "            delta = rewards[t] + self.gamma * next_value * (1 - dones[t]) - values[t]\n",
    "            gae = delta + self.gamma * self.gae_lambda * (1 - dones[t]) * gae\n",
    "            advantages.insert(0, gae)\n",
    "            \n",
    "        return torch.FloatTensor(advantages)\n",
    "    \n",
    "    def train(self):\n",
    "        \"\"\"\n",
    "        Update policy and value networks using collected trajectory.\n",
    "        Implements PPO-style updates with additional improvements.\n",
    "        \"\"\"\n",
    "        if len(self.trajectory) < 1:\n",
    "            return\n",
    "        \n",
    "        # Unpack trajectory with time steps\n",
    "        states, actions, rewards, next_states, dones, time_steps = zip(*self.trajectory)\n",
    "        \n",
    "        # Convert to tensors\n",
    "        states = torch.FloatTensor(states)\n",
    "        actions = torch.FloatTensor(actions)\n",
    "        rewards = torch.FloatTensor(rewards)\n",
    "        next_states = torch.FloatTensor(next_states)\n",
    "        dones = torch.FloatTensor(dones)\n",
    "        \n",
    "        # Compute values and advantages using GAE\n",
    "        with torch.no_grad():\n",
    "            values = self.get_value(states).squeeze()\n",
    "            next_values = self.get_value(next_states).squeeze()\n",
    "            advantages = self.compute_gae(rewards, values, next_values, dones)\n",
    "            returns = advantages + values\n",
    "            \n",
    "        # Normalize advantages\n",
    "        advantages = (advantages - advantages.mean()) / (advantages.std() + 1e-8)\n",
    "        \n",
    "        # Compute action probabilities\n",
    "        mean_actions = self.policy(states)\n",
    "        action_log_probs = -0.5 * ((actions - mean_actions) ** 2 / (self.action_std ** 2)).sum(dim=1)\n",
    "        \n",
    "        # PPO policy update\n",
    "        for _ in range(3):  # Multiple epochs of policy optimization\n",
    "            # Compute new action probabilities\n",
    "            new_mean_actions = self.policy(states)\n",
    "            new_action_log_probs = -0.5 * ((actions - new_mean_actions) ** 2 / (self.action_std ** 2)).sum(dim=1)\n",
    "            \n",
    "            # Compute probability ratio and clipped objective\n",
    "            ratio = torch.exp(new_action_log_probs - action_log_probs.detach())\n",
    "            surr1 = ratio * advantages\n",
    "            surr2 = torch.clamp(ratio, 1 - self.clip_ratio, 1 + self.clip_ratio) * advantages\n",
    "            policy_loss = -torch.min(surr1, surr2).mean()\n",
    "            \n",
    "            # Update policy network\n",
    "            self.policy_optimizer.zero_grad()\n",
    "            policy_loss.backward()\n",
    "            torch.nn.utils.clip_grad_norm_(self.policy.parameters(), max_norm=0.5)\n",
    "            self.policy_optimizer.step()\n",
    "            \n",
    "            self.policy_losses.append(policy_loss.item())\n",
    "        \n",
    "        # Value network update\n",
    "        for _ in range(3):  # Multiple epochs of value optimization\n",
    "            values = self.get_value(states).squeeze()\n",
    "            value_loss = F.mse_loss(values, returns.detach())\n",
    "            \n",
    "            self.value_optimizer.zero_grad()\n",
    "            value_loss.backward()\n",
    "            torch.nn.utils.clip_grad_norm_(\n",
    "                list(self.value_features.parameters()) + list(self.value_head.parameters()),\n",
    "                max_norm=0.5\n",
    "            )\n",
    "            self.value_optimizer.step()\n",
    "            \n",
    "            self.value_losses.append(value_loss.item())\n",
    "        \n",
    "        # Decay exploration noise\n",
    "        self.action_std = max(self.min_action_std, \n",
    "                            self.action_std * self.action_std_decay)\n",
    "        \n",
    "        # Clear trajectory buffer\n",
    "        self.trajectory = []\n",
    "        \n",
    "        return np.mean(self.policy_losses), np.mean(self.value_losses)\n",
    "    \n",
    "    def update_stats(self, episode_reward):\n",
    "        \"\"\"Update running statistics with additional metrics\"\"\"\n",
    "        self.running_rewards.append(episode_reward)\n",
    "        \n",
    "    def get_average_reward(self):\n",
    "        \"\"\"Get average reward over last 100 episodes\"\"\"\n",
    "        return np.mean(self.running_rewards) if self.running_rewards else 0\n",
    "        \n",
    "    def reset(self):\n",
    "        \"\"\"Reset temporal action smoothing between episodes\"\"\"\n",
    "        self.recent_actions.clear()"
   ]
  },
  {
   "cell_type": "markdown",
   "metadata": {
    "id": "QEv4ZjXmyrHo"
   },
   "source": [
    "**Prepare the environment and wrap it to capture statistics, logs, and videos**"
   ]
  },
  {
   "cell_type": "code",
   "execution_count": 4,
   "metadata": {
    "id": "1Xrcek4hxDXl"
   },
   "outputs": [
    {
     "name": "stdout",
     "output_type": "stream",
     "text": [
      "The device is: cpu (as recommended)\n",
      "actions are continuous with 4 dimensions/#actions\n",
      "observations are continuous with 24 dimensions/#observations\n",
      "maximum timesteps is: None\n"
     ]
    },
    {
     "data": {
      "image/png": "[encoded data removed]",
      "text/plain": [
       "<Figure size 640x480 with 1 Axes>"
      ]
     },
     "metadata": {},
     "output_type": "display_data"
    }
   ],
   "source": [
    "env = rld.make(\"rldurham/Walker\", render_mode=\"rgb_array\")\n",
    "# env = rld.make(\"rldurham/Walker\", render_mode=\"rgb_array\", hardcore=True) # only attempt this when your agent has solved the non-hardcore version\n",
    "\n",
    "# get statistics, logs, and videos\n",
    "env = rld.Recorder(\n",
    "    env,\n",
    "    smoothing=10,                       # track rolling averages (useful for plotting)\n",
    "    video=True,                         # enable recording videos\n",
    "    video_folder=\"videos\",              # folder for videos\n",
    "    video_prefix=\"xxxx00-agent-video\",  # prefix for videos (replace xxxx00 with your username)\n",
    "    logs=True,                          # keep logs\n",
    ")\n",
    "\n",
    "# training on CPU recommended\n",
    "rld.check_device()\n",
    "\n",
    "# environment info\n",
    "discrete_act, discrete_obs, act_dim, obs_dim = rld.env_info(env, print_out=True)\n",
    "\n",
    "# render start image\n",
    "env.reset(seed=42)\n",
    "rld.render(env)"
   ]
  },
  {
   "cell_type": "code",
   "execution_count": 5,
   "metadata": {
    "colab": {
     "base_uri": "https://localhost:8080/",
     "height": 449
    },
    "id": "rDl6ViIDlVOk",
    "outputId": "731e4ce7-c98d-4bde-8a2c-fbdf1410e24f"
   },
   "outputs": [
    {
     "data": {
      "image/png": "[encoded data removed]",
      "text/plain": [
       "<Figure size 640x480 with 1 Axes>"
      ]
     },
     "metadata": {},
     "output_type": "display_data"
    },
    {
     "name": "stdout",
     "output_type": "stream",
     "text": [
      "Episode 1000, Reward: -65.36, Avg Reward: -111.21\n"
     ]
    }
   ],
   "source": [
    "# in the submission please use seed_everything with seed 42 for verification\n",
    "seed, observation, info = rld.seed_everything(42, env)\n",
    "\n",
    "# initialise agent\n",
    "agent = Agent(env.observation_space.shape[0], env.action_space.shape[0])\n",
    "max_episodes = 1000\n",
    "max_timesteps = 2000\n",
    "\n",
    "# track statistics for plotting\n",
    "tracker = rld.InfoTracker()\n",
    "\n",
    "# switch video recording off (only switch on every x episodes as this is slow)\n",
    "env.video = False\n",
    "\n",
    "# Training procedure\n",
    "for episode in range(max_episodes):\n",
    "    \n",
    "    # Set up recording and tracking flags - every 10th episode\n",
    "    env.info = episode % 10 == 0   # Track statistics\n",
    "    env.video = episode % 10 == 0  # Record video\n",
    "    \n",
    "    # Reset environment and get initial observation\n",
    "    observation, info = env.reset()\n",
    "    episode_reward = 0\n",
    "    \n",
    "    # Reset agent's temporal smoothing for new episode\n",
    "    agent.reset()\n",
    "    \n",
    "    # Run episode steps\n",
    "    for t in range(max_timesteps):\n",
    "    \n",
    "        # Get action from agent using current observation\n",
    "        action = agent.sample_action(observation)\n",
    "        \n",
    "        # Execute action in environment\n",
    "        next_observation, reward, terminated, truncated, info = env.step(action)\n",
    "        \n",
    "        # Add reward to episode total\n",
    "        episode_reward += reward\n",
    "        \n",
    "        # Combine termination conditions\n",
    "        done = terminated or truncated\n",
    "        \n",
    "        # Store transition in agent's memory\n",
    "        agent.put_data(observation, action, reward, next_observation, done)\n",
    "        \n",
    "        # Update observation for next step\n",
    "        observation = next_observation\n",
    "        \n",
    "        # End episode if environment signals done\n",
    "        if done:\n",
    "            break\n",
    "    \n",
    "    # Train agent using collected experience\n",
    "    policy_loss, value_loss = agent.train()\n",
    "    \n",
    "    # Update agent's statistics with episode results\n",
    "    agent.update_stats(episode_reward)\n",
    "            \n",
    "    # Track and visualize progress\n",
    "    tracker.track(info)\n",
    "    if (episode + 1) % 10 == 0:\n",
    "        # Plot with mean reward, standard deviation, and sum\n",
    "        tracker.plot(r_mean_=True, r_std_=True, r_sum=dict(linestyle=':', marker='x'))\n",
    "        \n",
    "        # Print episode information\n",
    "        print(f\"Episode {episode+1}, Reward: {episode_reward:.2f}, \"\n",
    "              f\"Avg Reward: {agent.get_average_reward():.2f}\")\n",
    "\n",
    "# Close environment (ensures final video save)\n",
    "env.close()\n",
    "\n",
    "# Write training log file\n",
    "env.write_log(folder=\"logs\", file=\"xxxx00-agent-log.txt\")  # replace xxxx00 with your username"
   ]
  },
  {
   "cell_type": "markdown",
   "metadata": {},
   "source": [
    "A small demo with a predefined heuristic that is suboptimal and has no notion of balance (and is designed for the orignal BipedalWalker environment)..."
   ]
  },
  {
   "cell_type": "code",
   "execution_count": 6,
   "metadata": {},
   "outputs": [
    {
     "name": "stderr",
     "output_type": "stream",
     "text": [
      "Seed set to 42\n"
     ]
    }
   ],
   "source": [
    "from gymnasium.envs.box2d.bipedal_walker import BipedalWalkerHeuristics\n",
    "\n",
    "env = rld.make(\n",
    "    \"rldurham/Walker\",\n",
    "    # \"BipedalWalker-v3\",\n",
    "    render_mode=\"human\",\n",
    "    # render_mode=\"rgb_array\",\n",
    "    hardcore=False,\n",
    "    # hardcore=True,\n",
    ")\n",
    "_, obs, info = rld.seed_everything(42, env)\n",
    "\n",
    "heuristics = BipedalWalkerHeuristics()\n",
    "\n",
    "act = heuristics.step_heuristic(obs)\n",
    "for _ in range(500):\n",
    "    obs, rew, terminated, truncated, info = env.step(act)\n",
    "    act = heuristics.step_heuristic(obs)\n",
    "    if terminated or truncated:\n",
    "        break\n",
    "    if env.render_mode == \"rgb_array\":\n",
    "        rld.render(env, clear=True)\n",
    "env.close()"
   ]
  }
 ],
 "metadata": {
  "colab": {
   "provenance": []
  },
  "kernelspec": {
   "display_name": "Python 3",
   "language": "python",
   "name": "python3"
  },
  "language_info": {
   "codemirror_mode": {
    "name": "ipython",
    "version": 3
   },
   "file_extension": ".py",
   "mimetype": "text/x-python",
   "name": "python",
   "nbconvert_exporter": "python",
   "pygments_lexer": "ipython3",
   "version": "3.10.12"
  }
 },
 "nbformat": 4,
 "nbformat_minor": 4
}
