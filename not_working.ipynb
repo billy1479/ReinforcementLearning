{
 "cells": [
  {
   "cell_type": "markdown",
   "metadata": {},
   "source": [
    "# Coursework Template"
   ]
  },
  {
   "cell_type": "markdown",
   "metadata": {
    "id": "QTNU1mwGB1ZD"
   },
   "source": [
    "**Dependencies and imports**\n",
    "\n",
    "This can take a minute..."
   ]
  },
  {
   "cell_type": "code",
   "execution_count": 13,
   "metadata": {},
   "outputs": [],
   "source": [
    "# !pip install swig\n",
    "# !pip install --upgrade rldurham"
   ]
  },
  {
   "cell_type": "code",
   "execution_count": 14,
   "metadata": {},
   "outputs": [],
   "source": [
    "import torch\n",
    "import rldurham as rld\n",
    "\n",
    "import torch\n",
    "import torch.nn as nn\n",
    "import torch.nn.functional as F\n",
    "import numpy as np\n",
    "from collections import deque"
   ]
  },
  {
   "cell_type": "markdown",
   "metadata": {
    "id": "UJHtclV_30Re"
   },
   "source": [
    "**Reinforcement learning agent**\n",
    "\n",
    "Replace this with your own agent, I recommend starting with TD3 (lecture 8)."
   ]
  },
  {
   "cell_type": "code",
   "execution_count": 15,
   "metadata": {},
   "outputs": [],
   "source": [
    "class RunningMeanStd:\n",
    "    def __init__(self, shape=()):\n",
    "        self.mean = np.zeros(shape, dtype=np.float32)\n",
    "        self.var = np.ones(shape, dtype=np.float32)\n",
    "        self.count = 1e-4\n",
    "        \n",
    "    def update(self, x):\n",
    "        batch_mean = np.mean(x, axis=0)\n",
    "        batch_var = np.var(x, axis=0)\n",
    "        batch_count = x.shape[0]\n",
    "        \n",
    "        delta = batch_mean - self.mean\n",
    "        self.mean = self.mean + delta * batch_count / (self.count + batch_count)\n",
    "        m_a = self.var * self.count\n",
    "        m_b = batch_var * batch_count\n",
    "        M2 = m_a + m_b + np.square(delta) * self.count * batch_count / (self.count + batch_count)\n",
    "        self.var = M2 / (self.count + batch_count)\n",
    "        self.count = self.count + batch_count"
   ]
  },
  {
   "cell_type": "code",
   "execution_count": 16,
   "metadata": {
    "id": "4jXNHP8_U-rn"
   },
   "outputs": [],
   "source": [
    "class Agent(nn.Module):\n",
    "    def __init__(self, state_dim, action_dim, hidden_dim=256):\n",
    "        super(Agent, self).__init__()\n",
    "        \n",
    "        # State normalization\n",
    "        self.state_rms = RunningMeanStd(shape=state_dim)\n",
    "        \n",
    "        # Policy network with separate mean and log_std outputs\n",
    "        self.policy_base = nn.Sequential(\n",
    "            nn.Linear(state_dim, hidden_dim),\n",
    "            nn.ReLU(),\n",
    "            nn.Linear(hidden_dim, hidden_dim),\n",
    "            nn.ReLU()\n",
    "        )\n",
    "        \n",
    "        self.action_mean = nn.Linear(hidden_dim, action_dim)\n",
    "        self.action_log_std = nn.Parameter(torch.zeros(1, action_dim))\n",
    "        \n",
    "        # Value network\n",
    "        self.value = nn.Sequential(\n",
    "            nn.Linear(state_dim, hidden_dim),\n",
    "            nn.ReLU(),\n",
    "            nn.Linear(hidden_dim, hidden_dim),\n",
    "            nn.ReLU(),\n",
    "            nn.Linear(hidden_dim, 1)\n",
    "        )\n",
    "        \n",
    "        # Initialize weights\n",
    "        for layer in self.modules():\n",
    "            if isinstance(layer, nn.Linear):\n",
    "                nn.init.orthogonal_(layer.weight, np.sqrt(2))\n",
    "                layer.bias.data.zero_()\n",
    "        \n",
    "        # Memory and parameters\n",
    "        self.trajectory = []\n",
    "        self.gamma = 0.99\n",
    "        self.learning_rate = 3e-4\n",
    "        self.optimizer = torch.optim.Adam(self.parameters(), lr=self.learning_rate)\n",
    "        self.running_rewards = deque(maxlen=100)\n",
    "        self.clip_actions = True\n",
    "\n",
    "    \n",
    "    def normalize_state(self, state):\n",
    "        \"\"\"Normalize state using running mean and std\"\"\"\n",
    "        if isinstance(state, np.ndarray):\n",
    "            # Ensure state is 2D for batch processing\n",
    "            if state.ndim == 1:\n",
    "                state = state.reshape(1, -1)\n",
    "            self.state_rms.update(state)\n",
    "            state = (state - self.state_rms.mean) / np.sqrt(self.state_rms.var + 1e-8)\n",
    "        return state\n",
    "    \n",
    "    def get_action_distribution(self, state):\n",
    "        \"\"\"Get the action distribution parameters for a given state\"\"\"\n",
    "        features = self.policy_base(state)\n",
    "        mean = self.action_mean(features)\n",
    "        # Expand log_std to match the batch dimension of mean\n",
    "        log_std = self.action_log_std.expand(*mean.shape)\n",
    "        return mean, log_std\n",
    "    \n",
    "    def sample_action(self, state):\n",
    "        \"\"\"Sample action using the current policy\"\"\"\n",
    "        # Normalize and convert state to tensor\n",
    "        state = self.normalize_state(state)\n",
    "        state = torch.FloatTensor(state)\n",
    "        \n",
    "        with torch.no_grad():\n",
    "            # Get action distribution parameters\n",
    "            mean, log_std = self.get_action_distribution(state)\n",
    "            std = torch.exp(log_std)\n",
    "            \n",
    "            # Sample action using reparameterization trick\n",
    "            normal = torch.randn_like(mean)\n",
    "            action = mean + normal * std\n",
    "            \n",
    "            # Clip actions if needed\n",
    "            if self.clip_actions:\n",
    "                action = torch.clamp(action, -1.0, 1.0)\n",
    "        \n",
    "        # Return the first (and only) action if input was a single state\n",
    "        return action.squeeze(0).numpy()\n",
    "        return action.numpy()\n",
    "    \n",
    "    def put_data(self, state, action, reward, next_state, done):\n",
    "        \"\"\"Store transition in memory\"\"\"\n",
    "        self.trajectory.append((state, action, reward, next_state, done))\n",
    "    \n",
    "    def train(self):\n",
    "        \"\"\"Update policy and value networks\"\"\"\n",
    "        if len(self.trajectory) < 1:\n",
    "            return\n",
    "        \n",
    "        # Unpack and normalize states\n",
    "        states, actions, rewards, next_states, dones = zip(*self.trajectory)\n",
    "        states = np.array(states)\n",
    "        next_states = np.array(next_states)\n",
    "        \n",
    "        # Normalize states\n",
    "        states = self.normalize_state(states)\n",
    "        next_states = self.normalize_state(next_states)\n",
    "        \n",
    "        # Convert to tensors\n",
    "        states = torch.FloatTensor(states)\n",
    "        actions = torch.FloatTensor(actions)\n",
    "        rewards = torch.FloatTensor(rewards)\n",
    "        next_states = torch.FloatTensor(next_states)\n",
    "        dones = torch.FloatTensor(dones)\n",
    "        \n",
    "        # Compute returns and advantages\n",
    "        with torch.no_grad():\n",
    "            values = self.value(states).squeeze()\n",
    "            next_values = self.value(next_states).squeeze()\n",
    "            \n",
    "            # Compute returns\n",
    "            returns = []\n",
    "            running_return = next_values[-1] * (1 - dones[-1])\n",
    "            for r, d in zip(reversed(rewards), reversed(dones)):\n",
    "                running_return = r + self.gamma * running_return * (1 - d)\n",
    "                returns.insert(0, running_return)\n",
    "            returns = torch.stack(returns)\n",
    "            \n",
    "            # Compute advantages\n",
    "            advantages = returns - values\n",
    "            advantages = (advantages - advantages.mean()) / (advantages.std() + 1e-8)\n",
    "        \n",
    "        # Compute action distributions\n",
    "        features = self.policy_base(states)\n",
    "        mean = self.action_mean(features)\n",
    "        log_std = self.action_log_std.expand_as(mean)\n",
    "        std = torch.exp(log_std)\n",
    "        \n",
    "        # Compute log probabilities\n",
    "        normal_dist = torch.distributions.Normal(mean, std)\n",
    "        log_probs = normal_dist.log_prob(actions).sum(dim=1)\n",
    "        \n",
    "        # Policy loss using PPO-style objective\n",
    "        policy_loss = -(log_probs * advantages).mean()\n",
    "        \n",
    "        # Value loss\n",
    "        value_loss = F.mse_loss(self.value(states).squeeze(), returns)\n",
    "        \n",
    "        # Entropy bonus for exploration\n",
    "        entropy = normal_dist.entropy().mean()\n",
    "        \n",
    "        # Total loss\n",
    "        loss = policy_loss + 0.5 * value_loss - 0.01 * entropy\n",
    "        \n",
    "        # Update networks\n",
    "        self.optimizer.zero_grad()\n",
    "        loss.backward()\n",
    "        torch.nn.utils.clip_grad_norm_(self.parameters(), max_norm=0.5)\n",
    "        self.optimizer.step()\n",
    "        \n",
    "        # Clear trajectory\n",
    "        self.trajectory = []\n",
    "        \n",
    "        return loss.item()\n",
    "    \n",
    "    def update_stats(self, episode_reward):\n",
    "        \"\"\"Update running statistics\"\"\"\n",
    "        self.running_rewards.append(episode_reward)\n",
    "        \n",
    "    def get_average_reward(self):\n",
    "        \"\"\"Get average reward over last 100 episodes\"\"\"\n",
    "        return np.mean(self.running_rewards) if self.running_rewards else 0"
   ]
  },
  {
   "cell_type": "markdown",
   "metadata": {
    "id": "QEv4ZjXmyrHo"
   },
   "source": [
    "**Prepare the environment and wrap it to capture statistics, logs, and videos**"
   ]
  },
  {
   "cell_type": "code",
   "execution_count": 17,
   "metadata": {
    "id": "1Xrcek4hxDXl"
   },
   "outputs": [
    {
     "name": "stdout",
     "output_type": "stream",
     "text": [
      "The device is: cpu (as recommended)\n",
      "actions are continuous with 4 dimensions/#actions\n",
      "observations are continuous with 24 dimensions/#observations\n",
      "maximum timesteps is: None\n"
     ]
    },
    {
     "data": {
      "image/png": "[encoded data removed]",
      "text/plain": [
       "<Figure size 640x480 with 1 Axes>"
      ]
     },
     "metadata": {},
     "output_type": "display_data"
    }
   ],
   "source": [
    "env = rld.make(\"rldurham/Walker\", render_mode=\"rgb_array\")\n",
    "# env = rld.make(\"rldurham/Walker\", render_mode=\"rgb_array\", hardcore=True) # only attempt this when your agent has solved the non-hardcore version\n",
    "\n",
    "# get statistics, logs, and videos\n",
    "env = rld.Recorder(\n",
    "    env,\n",
    "    smoothing=10,                       # track rolling averages (useful for plotting)\n",
    "    video=True,                         # enable recording videos\n",
    "    video_folder=\"videos\",              # folder for videos\n",
    "    video_prefix=\"xxxx00-agent-video\",  # prefix for videos (replace xxxx00 with your username)\n",
    "    logs=True,                          # keep logs\n",
    ")\n",
    "\n",
    "# training on CPU recommended\n",
    "rld.check_device()\n",
    "\n",
    "# environment info\n",
    "discrete_act, discrete_obs, act_dim, obs_dim = rld.env_info(env, print_out=True)\n",
    "\n",
    "# render start image\n",
    "env.reset(seed=42)\n",
    "rld.render(env)"
   ]
  },
  {
   "cell_type": "code",
   "execution_count": 18,
   "metadata": {
    "colab": {
     "base_uri": "https://localhost:8080/",
     "height": 449
    },
    "id": "rDl6ViIDlVOk",
    "outputId": "731e4ce7-c98d-4bde-8a2c-fbdf1410e24f"
   },
   "outputs": [
    {
     "data": {
      "image/png": "[encoded data removed]",
      "text/plain": [
       "<Figure size 640x480 with 1 Axes>"
      ]
     },
     "metadata": {},
     "output_type": "display_data"
    }
   ],
   "source": [
    "# in the submission please use seed_everything with seed 42 for verification\n",
    "seed, observation, info = rld.seed_everything(42, env)\n",
    "\n",
    "# initialise agent\n",
    "agent = Agent(env.observation_space.shape[0], env.action_space.shape[0])\n",
    "max_episodes = 100\n",
    "max_timesteps = 2000\n",
    "\n",
    "# track statistics for plotting\n",
    "tracker = rld.InfoTracker()\n",
    "\n",
    "# switch video recording off (only switch on every x episodes as this is slow)\n",
    "env.video = False\n",
    "\n",
    "# training procedure\n",
    "for episode in range(max_episodes):\n",
    "    \n",
    "    # recording statistics and video can be switched on and off (video recording is slow!)\n",
    "    env.info = episode % 10 == 0   # track every x episodes (usually tracking every episode is fine)\n",
    "    env.video = episode % 10 == 0  # record videos every x episodes (set BEFORE calling reset!)\n",
    "\n",
    "    # reset for new episode\n",
    "    observation, info = env.reset()\n",
    "    episode_reward = 0\n",
    "    \n",
    "    for t in range(max_timesteps):\n",
    "    \n",
    "        action = agent.sample_action(observation)\n",
    "        next_observation, reward, terminated, truncated, info = env.step(action)\n",
    "        \n",
    "        episode_reward += reward\n",
    "        done = terminated or truncated\n",
    "            \n",
    "        agent.put_data(observation, action, reward, next_observation, done)\n",
    "        \n",
    "        observation = next_observation\n",
    "        \n",
    "        if done:\n",
    "            break\n",
    "        \n",
    "    loss = agent.train()\n",
    "    agent.update_stats(episode_reward)\n",
    "\n",
    "    # TRAIN THE AGENT HERE!\n",
    "            \n",
    "    # track and plot statistics\n",
    "    tracker.track(info)\n",
    "    if (episode + 1) % 10 == 0:\n",
    "        tracker.plot(r_mean_=True, r_std_=True, r_sum=dict(linestyle=':', marker='x'))\n",
    "\n",
    "# don't forget to close environment (e.g. triggers last video save)\n",
    "env.close()\n",
    "\n",
    "# write log file (for coursework)\n",
    "env.write_log(folder=\"logs\", file=\"xxxx00-agent-log.txt\")  # replace xxxx00 with your username"
   ]
  },
  {
   "cell_type": "markdown",
   "metadata": {},
   "source": [
    "A small demo with a predefined heuristic that is suboptimal and has no notion of balance (and is designed for the orignal BipedalWalker environment)..."
   ]
  },
  {
   "cell_type": "code",
   "execution_count": 19,
   "metadata": {},
   "outputs": [
    {
     "name": "stderr",
     "output_type": "stream",
     "text": [
      "Seed set to 42\n"
     ]
    }
   ],
   "source": [
    "from gymnasium.envs.box2d.bipedal_walker import BipedalWalkerHeuristics\n",
    "\n",
    "env = rld.make(\n",
    "    \"rldurham/Walker\",\n",
    "    # \"BipedalWalker-v3\",\n",
    "    render_mode=\"human\",\n",
    "    # render_mode=\"rgb_array\",\n",
    "    hardcore=False,\n",
    "    # hardcore=True,\n",
    ")\n",
    "_, obs, info = rld.seed_everything(42, env)\n",
    "\n",
    "heuristics = BipedalWalkerHeuristics()\n",
    "\n",
    "act = heuristics.step_heuristic(obs)\n",
    "for _ in range(500):\n",
    "    obs, rew, terminated, truncated, info = env.step(act)\n",
    "    act = heuristics.step_heuristic(obs)\n",
    "    if terminated or truncated:\n",
    "        break\n",
    "    if env.render_mode == \"rgb_array\":\n",
    "        rld.render(env, clear=True)\n",
    "env.close()"
   ]
  }
 ],
 "metadata": {
  "colab": {
   "provenance": []
  },
  "kernelspec": {
   "display_name": "Python 3",
   "language": "python",
   "name": "python3"
  },
  "language_info": {
   "codemirror_mode": {
    "name": "ipython",
    "version": 3
   },
   "file_extension": ".py",
   "mimetype": "text/x-python",
   "name": "python",
   "nbconvert_exporter": "python",
   "pygments_lexer": "ipython3",
   "version": "3.10.12"
  }
 },
 "nbformat": 4,
 "nbformat_minor": 4
}
